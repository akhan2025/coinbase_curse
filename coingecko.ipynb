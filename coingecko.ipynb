{
 "cells": [
  {
   "cell_type": "code",
   "execution_count": null,
   "id": "040aa34f",
   "metadata": {},
   "outputs": [],
   "source": [
    "!pip install pycoingecko"
   ]
  },
  {
   "cell_type": "code",
   "execution_count": null,
   "id": "15a483e7",
   "metadata": {},
   "outputs": [],
   "source": [
    "import pandas as pd\n",
    "mport requests\n",
    "import pprint\n",
    "import time\n",
    "pp = pprint.PrettyPrinter(indent=4)\n",
    "cg = CoinGeckoAPI()"
   ]
  },
  {
   "cell_type": "code",
   "execution_count": null,
   "id": "9cf07194",
   "metadata": {},
   "outputs": [],
   "source": [
    "def find_id(row):\n",
    "    if row['Ticker'].lower() in coin_df.symbol.values:\n",
    "        temp_df = coin_df[coin_df['symbol'] == row['Ticker'].lower()]\n",
    "        if len(temp_df) > 1:\n",
    "            listing = row['listings'].lower()\n",
    "            if listing in temp_df.id.values:\n",
    "                temp_df = temp_df[temp_df['id'] == listing]\n",
    "            elif listing.title() in temp_df.name.values:\n",
    "                temp_df = temp_df[temp_df['name'] == listing.title()]\n",
    "        return temp_df['id'].item()\n",
    "\n",
    "def get_listing_price(row, currency):\n",
    "    r = requests.get(f\"https://api.coingecko.com/api/v3/coins/{row['ids']}/history?date={row['listing date']}\")\n",
    "    time.sleep(1)\n",
    "    try:\n",
    "        json = r.json()\n",
    "    except ValueError:\n",
    "        print(r.text)\n",
    "    if 'market_data' not in json:\n",
    "        return \"added to coingecko after coinbase consideration\"\n",
    "        print(json, row['ids'])\n",
    "    prices = json['market_data']['current_price'][currency]\n",
    "    return prices\n",
    "\n",
    "def get_specified_price(row, currency, date):\n",
    "    r = requests.get(f\"https://api.coingecko.com/api/v3/coins/{row['ids']}/history?date={date}\")\n",
    "    time.sleep(1)\n",
    "    try:\n",
    "        json = r.json()\n",
    "    except ValueError:\n",
    "        print(r.text)\n",
    "        raise ValueError\n",
    "    if 'market_data' not in json:\n",
    "        return \"added to coingecko after coinbase consideration\"\n",
    "        print(json, row['ids'])\n",
    "    prices = json['market_data']['current_price'][currency]\n",
    "    return prices\n",
    "\n",
    "def get_market_cap(row):\n",
    "    r = requests.get(f\"https://api.coingecko.com/api/v3/coins/{row['ids']}/history?date={row['listing date']}\")\n",
    "    time.sleep(1)\n",
    "    try:\n",
    "        json = r.json()\n",
    "    except ValueError:\n",
    "        print(r.text)\n",
    "    if 'market_data' not in json:\n",
    "        print(json, row['ids'])\n",
    "        return \"added to coingecko after coinbase consideration\"\n",
    "    prices = json['market_data']['market_cap']['usd']\n",
    "    return prices\n",
    "\n",
    "def get_specified_market_cap(row, date):\n",
    "    r = requests.get(f\"https://api.coingecko.com/api/v3/coins/{row['ids']}/history?date={date}\")\n",
    "    time.sleep(1)\n",
    "    try:\n",
    "        json = r.json()\n",
    "    except ValueError:\n",
    "        print(r.text)\n",
    "    if 'market_data' not in json:\n",
    "        print(json, row['ids'])\n",
    "        return \"added to coingecko after coinbase consideration\"\n",
    "    prices = json['market_data']['market_cap']['usd']\n",
    "    return prices"
   ]
  },
  {
   "cell_type": "code",
   "execution_count": null,
   "id": "c1a3c429",
   "metadata": {},
   "outputs": [],
   "source": [
    "pd.set_option('max_columns', None)"
   ]
  },
  {
   "cell_type": "code",
   "execution_count": null,
   "id": "ad2772fb",
   "metadata": {},
   "outputs": [],
   "source": [
    "coin_df = pd.DataFrame.from_records(cg.get_coins_list())"
   ]
  },
  {
   "cell_type": "code",
   "execution_count": null,
   "id": "05f68ff8",
   "metadata": {},
   "outputs": [],
   "source": [
    "gecko_df = pd.read_csv('coingecko_listing.csv')"
   ]
  },
  {
   "cell_type": "code",
   "execution_count": null,
   "id": "a93401cf",
   "metadata": {},
   "outputs": [],
   "source": [
    "gecko_df.dropna(axis = 1, inplace=True, how='all')\n",
    "gecko_df.dropna(axis = 0, inplace=True, how = 'all')"
   ]
  },
  {
   "cell_type": "code",
   "execution_count": null,
   "id": "2d94b7b4",
   "metadata": {},
   "outputs": [],
   "source": [
    "gecko_df['ids'] = gecko_df.apply(find_id,axis=1)\n",
    "\n",
    "gecko_df.loc[gecko_df['Ticker'] == 'SUKU','ids'] = coin_df.loc[coin_df['symbol'] == 'SUKU']['id'].item()\n",
    "\n",
    "gecko_df.loc[gecko_df['Ticker'] == 'WLUNA','ids'] =coin_df.loc[coin_df['id'] == 'wrapped-terra']['id'].item()"
   ]
  },
  {
   "cell_type": "code",
   "execution_count": null,
   "id": "bf4f5ef8",
   "metadata": {},
   "outputs": [],
   "source": [
    "gecko_df.loc[gecko_df['Ticker'] == 'CGLD','ids'] = 'celo'"
   ]
  },
  {
   "cell_type": "code",
   "execution_count": null,
   "id": "f5ea712d",
   "metadata": {},
   "outputs": [],
   "source": [
    "gecko_df['Price at Listing USD'] = gecko_df.apply(lambda x: get_listing_price(x, 'usd'),axis=1)"
   ]
  },
  {
   "cell_type": "code",
   "execution_count": null,
   "id": "f26862bb",
   "metadata": {},
   "outputs": [],
   "source": [
    "gecko_df['Market Cap at listing USD'] = gecko_df.apply(get_market_cap,axis=1)                                        "
   ]
  },
  {
   "cell_type": "code",
   "execution_count": null,
   "id": "46b31692",
   "metadata": {},
   "outputs": [],
   "source": [
    "gecko_df['Price at Listing BTC'] = gecko_df.apply(lambda x: get_listing_price(x, 'btc'),axis=1)                                        "
   ]
  },
  {
   "cell_type": "code",
   "execution_count": null,
   "id": "8159d57e",
   "metadata": {},
   "outputs": [],
   "source": [
    "gecko_df['Price at Listing ETH'] = gecko_df.apply(lambda x: get_listing_price(x, 'eth'),axis=1)"
   ]
  },
  {
   "cell_type": "code",
   "execution_count": null,
   "id": "f44df530",
   "metadata": {},
   "outputs": [],
   "source": [
    "gecko_df['Price at 1/09 USD'] = gecko_df.apply(lambda x: get_specified_price(x, 'usd', '09-01-2022'),axis=1)"
   ]
  },
  {
   "cell_type": "code",
   "execution_count": null,
   "id": "28fabd7a",
   "metadata": {},
   "outputs": [],
   "source": [
    "gecko_df['Price at 1/09 BTC'] = gecko_df.apply(lambda x: get_specified_price(x, 'btc', '09-01-2022'),axis=1)"
   ]
  },
  {
   "cell_type": "code",
   "execution_count": null,
   "id": "33beaf46",
   "metadata": {},
   "outputs": [],
   "source": [
    "gecko_df['Price at 1/09 ETH'] = gecko_df.apply(lambda x: get_specified_price(x, 'eth', '09-01-2022'),axis=1)"
   ]
  },
  {
   "cell_type": "code",
   "execution_count": null,
   "id": "4bd443b5",
   "metadata": {},
   "outputs": [],
   "source": [
    "gecko_df['Current Market Cap'] = gecko_df.apply(lambda x: get_specified_market_cap(x, '09-01-2022'), axis=1)"
   ]
  },
  {
   "cell_type": "code",
   "execution_count": null,
   "id": "0225a30a",
   "metadata": {},
   "outputs": [],
   "source": [
    "def price_prior(row):\n",
    "    date = row['listing date']\n",
    "    date = date.split('-')\n",
    "    date = date[0] + '-' +date[1] + '-' + str(int(date[2]) - 1)\n",
    "    print(date)\n",
    "    r = requests.get(f\"https://api.coingecko.com/api/v3/coins/{row['ids']}/history?date={date}\")\n",
    "    time.sleep(1)\n",
    "    try:\n",
    "        json = r.json()\n",
    "    except ValueError:\n",
    "        print(r.text)\n",
    "    if 'market_data' not in json:\n",
    "        return \"No previous year available\"\n",
    "        print(json, row['ids'])\n",
    "    prices = json['market_data']['current_price']['usd']\n",
    "    return prices\n",
    "gecko_df['previous year price'] = gecko_df.apply(price_prior, axis=1)"
   ]
  },
  {
   "cell_type": "code",
   "execution_count": null,
   "id": "3bed6707",
   "metadata": {},
   "outputs": [],
   "source": [
    "gecko_df.to_csv('prices_for_coins.csv')"
   ]
  },
  {
   "cell_type": "code",
   "execution_count": null,
   "id": "a0705d93",
   "metadata": {},
   "outputs": [],
   "source": [
    "#check for cells with no id, name, price, or ticker\n",
    "is_NaN = gecko_df.isnull()\n",
    "\n",
    "row_has_NaN = is_NaN.any(axis=1)\n",
    "\n",
    "rows_with_NaN = gecko_df[row_has_NaN]\n",
    "\n",
    "\n",
    "print(rows_with_NaN)"
   ]
  },
  {
   "cell_type": "code",
   "execution_count": null,
   "id": "b5e72267",
   "metadata": {},
   "outputs": [],
   "source": [
    "gecko_df"
   ]
  },
  {
   "cell_type": "code",
   "execution_count": null,
   "id": "b4c32595",
   "metadata": {},
   "outputs": [],
   "source": [
    "#check unlisted coins\n",
    "not_listed_df = pd.read_csv('not_listed.csv')"
   ]
  },
  {
   "cell_type": "code",
   "execution_count": null,
   "id": "9fc60870",
   "metadata": {},
   "outputs": [],
   "source": [
    "not_listed_df.dropna(axis=0, how='all', subset= ['name'], inplace=True)"
   ]
  },
  {
   "cell_type": "code",
   "execution_count": null,
   "id": "055c2cf4",
   "metadata": {},
   "outputs": [],
   "source": [
    "not_listed_df.rename(columns={'Consideration date':'listing date', 'name':'ids'}, inplace=True)"
   ]
  },
  {
   "cell_type": "code",
   "execution_count": null,
   "id": "6def39fe",
   "metadata": {},
   "outputs": [],
   "source": [
    "not_listed_df.dropna(axis=1, how=\"all\", inplace=True)"
   ]
  },
  {
   "cell_type": "code",
   "execution_count": null,
   "id": "35ce26ff",
   "metadata": {},
   "outputs": [],
   "source": [
    "not_listed_df.drop(axis=1,labels=['Unnamed: 0','Unnamed: 13','Unnamed: 14'], inplace=True)"
   ]
  },
  {
   "cell_type": "code",
   "execution_count": null,
   "id": "7d152f61",
   "metadata": {},
   "outputs": [],
   "source": [
    "def fix_date(date):\n",
    "    if '/' in date:\n",
    "        date = date.split('/')\n",
    "        date = date[0] +'-'+date[1]+'-20'+date[2]\n",
    "    return date\n",
    "\n",
    "not_listed_df['listing date'] = not_listed_df['listing date'].apply(fix_date)"
   ]
  },
  {
   "cell_type": "code",
   "execution_count": null,
   "id": "0bc652fc",
   "metadata": {},
   "outputs": [],
   "source": [
    "not_listed_df['Price at listing'] = not_listed_df.apply(lambda x: get_listing_price(x, 'usd'),axis=1)\n",
    "\n",
    "not_listed_df['Price at listing BTC'] = not_listed_df.apply(lambda x: get_listing_price(x, 'btc'),axis=1)\n",
    "\n",
    "not_listed_df['Price at listing ETH'] = not_listed_df.apply(lambda x: get_listing_price(x, 'eth'),axis=1)"
   ]
  },
  {
   "cell_type": "code",
   "execution_count": null,
   "id": "3fd8b5d6",
   "metadata": {},
   "outputs": [],
   "source": [
    "not_listed_df['Price at 1/09 USD'] = not_listed_df.apply(lambda x: get_specified_price(x, 'usd', '09-01-2022'),axis=1)\n",
    "\n",
    "not_listed_df['Price at 1/09 BTC'] = not_listed_df.apply(lambda x: get_specified_price(x, 'btc', '09-01-2022'),axis=1)\n",
    "\n",
    "not_listed_df['Price at 1/09 ETH'] = not_listed_df.apply(lambda x: get_specified_price(x, 'eth', '09-01-2022'),axis=1)\n",
    "\n",
    "not_listed_df['Current Market Cap'] = not_listed_df.apply(lambda x: get_specified_market_cap(x, '09-01-2022'),axis=1)"
   ]
  },
  {
   "cell_type": "code",
   "execution_count": null,
   "id": "10424e32",
   "metadata": {},
   "outputs": [],
   "source": [
    "df = pd.concat([gecko_df, not_listed_df])\n",
    "df.to_csv('current_coin_prices.csv')"
   ]
  },
  {
   "cell_type": "code",
   "execution_count": null,
   "id": "a019c8a3",
   "metadata": {},
   "outputs": [],
   "source": [
    "def get_earliest_data_price(row, currency):\n",
    "    if row['Price at listing'] == 'added to coingecko after coinbase consideration':\n",
    "        r = requests.get(f\"https://api.coingecko.com/api/v3/coins/{row['ids']}/market_chart?vs_currency={currency}&days=max\")\n",
    "        time.sleep(0.5)\n",
    "        json = r.json()\n",
    "        if 'prices' not in json:\n",
    "            pp.pprint(json)\n",
    "        prices = json['prices'][0][1]\n",
    "        return prices\n",
    "    else:\n",
    "        return None\n",
    "    \n",
    "def get_earliest_data_market_cap(row):\n",
    "    if row['market cap at consideration'] == 'added to coingecko after coinbase consideration':\n",
    "        r = requests.get(f\"https://api.coingecko.com/api/v3/coins/{row['ids']}/market_chart?vs_currency={'usd'}&days=max\")\n",
    "        time.sleep(0.5)\n",
    "        json = r.json()\n",
    "        if 'market_caps' not in json:\n",
    "            pp.pprint(json)\n",
    "        prices = json['market_caps'][0][1]\n",
    "        return prices\n",
    "    else:\n",
    "        return None\n",
    "    \n"
   ]
  },
  {
   "cell_type": "code",
   "execution_count": null,
   "id": "89616cfd",
   "metadata": {
    "scrolled": false
   },
   "outputs": [],
   "source": [
    "not_listed_df['earliest listed price'] = not_listed_df.apply(lambda x: get_earliest_data_price(x, 'usd'), axis=1)\n",
    "not_listed_df['earliest listed price BTC'] = not_listed_df.apply(lambda x: get_earliest_data_price(x, 'btc'), axis=1)\n",
    "not_listed_df['earliest listed price ETH'] = not_listed_df.apply(lambda x: get_earliest_data_price(x, 'eth'), axis=1)"
   ]
  },
  {
   "cell_type": "code",
   "execution_count": null,
   "id": "cf317b56",
   "metadata": {},
   "outputs": [],
   "source": [
    "not_listed_df['market cap at consideration'] = not_listed_df.apply(get_market_cap, axis=1)\n",
    "\n",
    "not_listed_df['market cap earliest listed'] = not_listed_df.apply(get_earliest_data_market_cap, axis=1)\n",
    "\n",
    "not_listed_df['current market cap'] = not_listed_df.apply(get_specified_market_cap,axis=1)"
   ]
  },
  {
   "cell_type": "code",
   "execution_count": null,
   "id": "1a09338b",
   "metadata": {},
   "outputs": [],
   "source": [
    "not_listed_df.dropna(axis=1, how='all')"
   ]
  },
  {
   "cell_type": "code",
   "execution_count": null,
   "id": "becec41d",
   "metadata": {},
   "outputs": [],
   "source": [
    "not_listed_df.to_csv('not_listed_added_info.csv')"
   ]
  },
  {
   "cell_type": "code",
   "execution_count": null,
   "id": "582a35dc",
   "metadata": {},
   "outputs": [],
   "source": []
  }
 ],
 "metadata": {
  "kernelspec": {
   "display_name": "Python 3 (ipykernel)",
   "language": "python",
   "name": "python3"
  },
  "language_info": {
   "codemirror_mode": {
    "name": "ipython",
    "version": 3
   },
   "file_extension": ".py",
   "mimetype": "text/x-python",
   "name": "python",
   "nbconvert_exporter": "python",
   "pygments_lexer": "ipython3",
   "version": "3.9.7"
  }
 },
 "nbformat": 4,
 "nbformat_minor": 5
}
